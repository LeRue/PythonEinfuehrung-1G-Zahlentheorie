{
 "cells": [
  {
   "cell_type": "markdown",
   "metadata": {},
   "source": [
    "# Einführung: Python\n",
    "Du wirst hier (wieder) lernen\n",
    "- wie man mit *Python* Informationen abfragt\n",
    "- wie man mit Variblen in Python arbeitet und etwas auf dem Bildschirm ausgibt\n",
    "- wie man die Steuerungselement `if` und `for` in Python-Programmen verwendet\n",
    "- wie man *Listen* erstellt\n",
    "- wie man Daten mit Diagrammen darstellt\n",
    "\n",
    "Am Ende wirst deine Kenntnisse anwenden, um die Kreiszahl $\\pi$ auf verschiedene, zum Teil sehr moderne Arten, bestimmen."
   ]
  },
  {
   "cell_type": "markdown",
   "metadata": {},
   "source": [
    "## Grundlagen für das Arbeitsblatt\n",
    "Python wird hier im sogenannten *Jupyter Notebook* ausgeführt. Der Vorteil daran ist, dass man kleine «Progrämmchen» bzw. «Code-Schnipsel» ausführen kann und nicht immer gleich an komplettes Python-Programm schreiben muss.\n",
    "Ausserdem kannst du Grafiken, Tabellen usw. direkt im Notizbuch anzeigen. Und zuletzt: Man kann auch Textbausteine (*wie diesen!*) zur Erklärung einfügen, sogar mit Formeln: $a \\cdot (b + c) = a \\cdot b + a\\cdot c$.\n",
    "### Wie man Code-Teile ausführt\n",
    "Damit dein Programmiertext ausgeführt wird, musst du in eine Zelle klicken und anschliessend `SHIFT+RETURN` oder `STRG+RETURN` drücken. Bei der ersten Möglichkeit springst du danach automatisch in die nächste Zelle, bei der zweiten Möglichkeit nicht."
   ]
  },
  {
   "cell_type": "markdown",
   "metadata": {},
   "source": [
    "### Aufgabe:\n",
    "<a id='pkg_import'></a>\n",
    "Führe den Code in der folgenden Zelle aus: Es werden nötige Pakte importiert, die wir nachher verwenden werden."
   ]
  },
  {
   "cell_type": "code",
   "execution_count": null,
   "metadata": {},
   "outputs": [],
   "source": [
    "import numpy as np # Provides calculating power for lists and matrices\n",
    "import matplotlib.pyplot as plt # Lets you produces nice graphical output\n",
    "print(\"Jetzt hast du alle wichtigen Pakete geladen!\")"
   ]
  },
  {
   "cell_type": "markdown",
   "metadata": {},
   "source": [
    "## Daten in Python eingeben\n",
    "Mit dem Input-Befehl kannst du den Benutzer auffordern etwas einzugeben, was du dann in einer Variablen speicherst.\n",
    "Hier ein Beispiel:\n",
    "\n",
    "*Führe den Code aus und gib deinen Namen ein!*"
   ]
  },
  {
   "cell_type": "code",
   "execution_count": null,
   "metadata": {},
   "outputs": [],
   "source": [
    "name = input(\"Wie heisst du?: \")"
   ]
  },
  {
   "cell_type": "markdown",
   "metadata": {},
   "source": [
    "1. Die Variable wird `name` genannt \n",
    "2. `input` fordert den Benutzer zu einer Eingabe auf\n",
    "\n",
    "Jetzt kannst du die Variable `name` nutzen: Mit `print` kann man eine Bildschirmausgabe machen. Alle Textstücke (\"Strings\") müssen in Anführungszeichen `\" \"` stehen. Verschiedene Textstücke kann man mit dem `+` verknüpfen. \n",
    "\n",
    "*Führe den Code aus und überlege wie er funktioniert!*"
   ]
  },
  {
   "cell_type": "code",
   "execution_count": null,
   "metadata": {},
   "outputs": [],
   "source": [
    "print(\"Hallo \" + name + \", heute schon gut gefrühstückt?\")"
   ]
  },
  {
   "cell_type": "markdown",
   "metadata": {},
   "source": [
    "### Aufgabe\n",
    "Frag den Benutzer nach seinem Alter und gib anschliessend eine lustige Aussage über ihn aus!\n",
    "\n",
    "*Erstelle in der nächsten Zelle hierfür einen Code und führe ihn aus!*"
   ]
  },
  {
   "cell_type": "code",
   "execution_count": null,
   "metadata": {},
   "outputs": [],
   "source": [
    "# Hier kommt dein Code hin (Ausführen mit STRG-RETURN)"
   ]
  },
  {
   "cell_type": "markdown",
   "metadata": {},
   "source": [
    "## `if`-Abfrage\n",
    "Mit `if` kannst du entscheidungen fällen: «Wenn ..., dann ..., sonst ...»\n",
    "\n",
    "Hier ein Beispiel:\n",
    "\n",
    "*Lies den Code durch, führe ihn aus, und versuche ihn zu verstehen!*"
   ]
  },
  {
   "cell_type": "code",
   "execution_count": null,
   "metadata": {},
   "outputs": [],
   "source": [
    "zahl = int(input(\"Gib eine natürliche Zahl ein: \"))\n",
    "if zahl > 100:\n",
    "    print(\"Das ist eine GROSSE Zahl.\")\n",
    "elif zahl == 100:\n",
    "    print(\"Warum hast du genau 100 eingegeben?\")\n",
    "else:\n",
    "    print(\"Eine kleine Zahl.\")"
   ]
  },
  {
   "cell_type": "markdown",
   "metadata": {},
   "source": [
    "Hier benötigst du noch zusätzlich die Funktion `int`. Sie verwandelt das Textstück, dass du eingibst in eine **ganze Zahl**."
   ]
  },
  {
   "cell_type": "markdown",
   "metadata": {},
   "source": [
    "### Beachte!\n",
    "In Python ist es wichtig, **genau auf die «Syntax» zu achten**. Vergisst du z.B. den `:` nach der Abfrage `zahl > 100`, funktioniert das Programm nicht, sondern es gibt eine **Fehlermeldung**!\n",
    "\n",
    "*Probiere es aus!*"
   ]
  },
  {
   "cell_type": "markdown",
   "metadata": {},
   "source": [
    "### Aufgabe\n",
    "Erstelle eine Abfrage nach dem Alter und gib etwas lustiges als Ausgabe aus. Dabei solltest du eine `if`-Abfrage einbauen!\n",
    "\n",
    "*Erstelle in der nächsten Zelle hierfür einen Code und führe ihn aus!*"
   ]
  },
  {
   "cell_type": "code",
   "execution_count": null,
   "metadata": {},
   "outputs": [],
   "source": [
    "# Hier kommt dein Code hin (Ausführen mit STRG-RETURN)"
   ]
  },
  {
   "cell_type": "markdown",
   "metadata": {},
   "source": [
    "## Die `while`-Schleife\n",
    "Oft müssen Abläufe in einem Computerprogramm immer und immer wieder wiederholt werden, z.B. muss der Computer in jedem Moment neu Abfragen, ob du gerade eine Taste auf der Tastatur gedrückt hast.\n",
    "\n",
    "In einem Computerprogramm nennt man das **Schleifen**. Das Prorgramm dreht so oft \"Schleifen\" bis z.B. eine bestimmte Bedingung *nicht mehr* erfüllt. \n",
    "\n",
    "Die `while`-Schleife macht das so:\n",
    "\n",
    "``solange blabla erfüllt:\n",
    "    tue dies\n",
    "    tue jenes\n",
    "    tue noch das\n",
    "``\n",
    "\n",
    "oder auf Englisch in Python:\n",
    "\n",
    "`` while condition:\n",
    "        do this\n",
    "        do that\n",
    "        do something more\n",
    "        ``"
   ]
  },
  {
   "cell_type": "markdown",
   "metadata": {},
   "source": [
    "### Beispiel: Zahlen solange «hoch 2» nehmen bis die Potenz grösser als 1 Million ist\n",
    "*Führe den folgenden Code aus, was passiert?*"
   ]
  },
  {
   "cell_type": "code",
   "execution_count": null,
   "metadata": {},
   "outputs": [],
   "source": [
    "zahl = int(input(\"Bis zu welcher Zahl möchtest du \\\n",
    "alle Quadratzahlen aufschreiben?\"))\n",
    "n = 1\n",
    "while n*n < zahl:\n",
    "    print(str(n) + \" wird quadriert zu \" + str(n*n))\n",
    "    n = n+1"
   ]
  },
  {
   "cell_type": "markdown",
   "metadata": {},
   "source": [
    "### Aufgabe\n",
    "Schreibe mit Hilfe einer `while`-Schleife ein Programm, dass alle 2er-Potenzen $2^n$ ausgibt. Die Zahl $n$ bestimmst du vorher durch eine Eingabe des Benutzers (wie oben)-\n",
    "\n",
    "*Schreibe deinen Code in die nächste Zelle und führe ihn aus!*"
   ]
  },
  {
   "cell_type": "code",
   "execution_count": null,
   "metadata": {},
   "outputs": [],
   "source": [
    "# Hier kommt dein Code hin (Ausführen mit STRG-RETURN)"
   ]
  },
  {
   "cell_type": "markdown",
   "metadata": {},
   "source": [
    "### Listen\n",
    "\n",
    "Oft möchtest du die Zahlen, die du berechnet hast, z.B. die Zweierpotenzen, weiterverwenden. Dazu musst du diese z.B. in einer «Liste» (`list`) speichern.\n",
    "\n",
    "Eine einfache Möglichkeit, eine Liste zu erstellen und zu erweitern ist der Befehl `append` (*engl. hänge an*)\n",
    "\n",
    "*Führe die nachfolgenden Beispiele aus. Es werden alle Zahlen der Dreierreihe auf umständliche Art bestimmt*.\n"
   ]
  },
  {
   "cell_type": "code",
   "execution_count": null,
   "metadata": {},
   "outputs": [],
   "source": [
    "# erst wird eine leere List erstellt \n",
    "dreierreihe = []\n",
    "i = 0\n",
    "while i < 100:\n",
    "    rest = i/3 - np.floor(i/3) #die Funktion floor rundet ab\n",
    "    if rest == 0:\n",
    "        dreierreihe.append(i)\n",
    "    i = i+1\n",
    "        \n",
    "print(dreierreihe)"
   ]
  },
  {
   "cell_type": "markdown",
   "metadata": {},
   "source": [
    "### Aufgabe\n",
    "Schreibe mit Hilfe einer `while`-Schleife ein Programm, dass alle Zahlen der 13er-Reihe bis 1000 bestimmt. Speichere alle Zahlen in einer Liste und gib sie am Schluss aus (`print`).\n",
    "\n",
    "*Schreibe deinen Code in die nächste Zelle und führe ihn aus!*"
   ]
  },
  {
   "cell_type": "code",
   "execution_count": null,
   "metadata": {},
   "outputs": [],
   "source": [
    "# Hier kommt dein Code hin (Ausführen mit STRG-RETURN)"
   ]
  },
  {
   "cell_type": "markdown",
   "metadata": {},
   "source": [
    "### Aufgabe\n",
    "Schreibe mit Hilfe einer `while`-Schleife ein Programm, dass alle Teiler einer Zahl bestimmt. Speichere alle Teiler in einer Liste und gib sie am Schluss aus (`print`).\n",
    "\n",
    "*Schreibe deinen Code in die nächste Zelle und führe ihn aus!*"
   ]
  },
  {
   "cell_type": "code",
   "execution_count": null,
   "metadata": {},
   "outputs": [],
   "source": [
    "# Hier kommt dein Code hin (Ausführen mit STRG-RETURN)"
   ]
  },
  {
   "cell_type": "markdown",
   "metadata": {},
   "source": [
    "### Aufgabe\n",
    "Schreibe ein Programm, dass bestimmt **ob eine Zahl prim ist**. Die Zahl sollst du am Anfang eingeben können (mit ``int(input...``.\n",
    "Das Programm schreibt zum Schluss eine Ausgabe wie «127 ist eine Primzahl» oder «62 ist keine Primzahl»\n",
    "\n",
    "*Schreibe deinen Code in die nächste Zelle und führe ihn aus!*"
   ]
  },
  {
   "cell_type": "code",
   "execution_count": null,
   "metadata": {},
   "outputs": [],
   "source": [
    "# Hier kommt dein Code hin (Ausführen mit STRG-RETURN)"
   ]
  },
  {
   "cell_type": "markdown",
   "metadata": {},
   "source": []
  },
  {
   "cell_type": "markdown",
   "metadata": {},
   "source": [
    "# Sieb des Eratosthenes\n",
    "Du kannst mit diesem Sieb zügig Primzahlen bestimmen. Dabei nutzt du aus, das Vielfache einer Primzahl automatisch als Primzahl ausgeschlossen werden können. Z.B. weisst du, dass alle geraden Zahlen keine Primzahlen sein können, alle Zahlen >3 in der Dreierreiche usw.\n",
    "\n",
    "*Führe den Code aus und versuche zu verstehen wie er funktioniert!*\n",
    "\n",
    "*Dazu es es z.B. sinnvoll, wenn du den Algorithmus einmal konkret durchspielst. Notiere dazu alle Zahlen bis 20 auf einem Blatt und überlege wie der Algorithmus vorgeht*"
   ]
  },
  {
   "cell_type": "code",
   "execution_count": null,
   "metadata": {},
   "outputs": [],
   "source": [
    "primzahlen = list(range(2,21)) # hier wird eine Liste von Zahlen (2,...,20) erzeugt\n",
    "liste_nicht_prim = []\n",
    "t = 2\n",
    "while t<n and t*t<n:\n",
    "    if t not in liste_nicht_prim:\n",
    "        v = 2\n",
    "        while v*t<=n:\n",
    "            liste_nicht_prim.append(v*t)\n",
    "            if v*t in primzahlen:\n",
    "                primzahlen.remove(v*t)        \n",
    "            v = v+1\n",
    "    t = t+1\n",
    "print(primzahlen)"
   ]
  },
  {
   "cell_type": "markdown",
   "metadata": {},
   "source": [
    "### Hilfestellung\n",
    "Falls du das Programmm noch nicht verstehst, hilft dir vielleicht die Erweiterung unten: \n",
    "\n",
    "Jetzt wurden Zwischenergebnisse ausgegeben. Nämlich immer dann, wenn die Schleife für ein bestimmtes $t$ durchgelaufen ist.\n",
    "\n",
    "*Führe den Code aus und versuche zu verstehen wie er funktioniert!*\n"
   ]
  },
  {
   "cell_type": "code",
   "execution_count": null,
   "metadata": {},
   "outputs": [],
   "source": [
    "primzahlen = list(range(2,21)) # hier wird eine Liste von Zahlen (2,...,20) erzeugt\n",
    "liste_nicht_prim = []\n",
    "t = 2\n",
    "while t<n and t*t<n:\n",
    "    if t not in liste_nicht_prim:\n",
    "        v = 2\n",
    "        while v*t<=n:\n",
    "            liste_nicht_prim.append(v*t)\n",
    "            if v*t in primzahlen:\n",
    "                primzahlen.remove(v*t)        \n",
    "            v = v+1\n",
    "    print(\"Vielfache von \" +str(t) + \" wurden gestrichen.\" + \" Mögliche übrige Teiler:\" + str(primzahlen))\n",
    "    t = t+1\n",
    "print(\"Alle Primzahlen bis 20: \" + str(primzahlen)   )"
   ]
  },
  {
   "cell_type": "markdown",
   "metadata": {},
   "source": [
    "### Aufgabe\n",
    "Schreibe das Program\n",
    "*Schreibe deinen Code in die nächste Zelle und führe ihn aus!*"
   ]
  },
  {
   "cell_type": "code",
   "execution_count": null,
   "metadata": {},
   "outputs": [],
   "source": []
  }
 ],
 "metadata": {
  "kernelspec": {
   "display_name": "Python 3",
   "language": "python",
   "name": "python3"
  },
  "language_info": {
   "codemirror_mode": {
    "name": "ipython",
    "version": 3
   },
   "file_extension": ".py",
   "mimetype": "text/x-python",
   "name": "python",
   "nbconvert_exporter": "python",
   "pygments_lexer": "ipython3",
   "version": "3.8.10"
  }
 },
 "nbformat": 4,
 "nbformat_minor": 5
}
